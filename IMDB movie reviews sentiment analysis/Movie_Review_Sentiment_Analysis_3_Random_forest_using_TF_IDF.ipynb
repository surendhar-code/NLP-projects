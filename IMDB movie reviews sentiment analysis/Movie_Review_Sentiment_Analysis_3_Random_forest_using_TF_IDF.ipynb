{
  "nbformat": 4,
  "nbformat_minor": 0,
  "metadata": {
    "colab": {
      "name": "Movie Review Sentiment Analysis 3-Random forest using TF-IDF.ipynb",
      "provenance": [],
      "collapsed_sections": []
    },
    "kernelspec": {
      "name": "python3",
      "display_name": "Python 3"
    },
    "accelerator": "TPU"
  },
  "cells": [
    {
      "cell_type": "code",
      "metadata": {
        "id": "Ls_1eSWbKowz",
        "outputId": "7d7d237b-0cae-4c95-8658-528dc9932492",
        "colab": {
          "base_uri": "https://localhost:8080/"
        }
      },
      "source": [
        "from google.colab import drive\n",
        "drive.mount('/gdrive')\n",
        "%cd /gdrive"
      ],
      "execution_count": null,
      "outputs": [
        {
          "output_type": "stream",
          "text": [
            "Mounted at /gdrive\n",
            "/gdrive\n"
          ],
          "name": "stdout"
        }
      ]
    },
    {
      "cell_type": "code",
      "metadata": {
        "id": "kkCosKtcK8Ii"
      },
      "source": [
        "#Reading original data\n",
        "import pandas as pd\n",
        "data=pd.read_csv('/gdrive/My Drive/IMDB Dataset.csv')"
      ],
      "execution_count": null,
      "outputs": []
    },
    {
      "cell_type": "code",
      "metadata": {
        "id": "f7etS1GMmunG",
        "outputId": "bfa5a3d3-aab1-481c-af3f-b9e950067832",
        "colab": {
          "base_uri": "https://localhost:8080/",
          "height": 206
        }
      },
      "source": [
        "#Reading pre processed data\n",
        "pre_data=pd.read_csv('/gdrive/My Drive/Movie Reviews sentiment analysis/final_processed_data.csv')\n",
        "pre_data.head()"
      ],
      "execution_count": null,
      "outputs": [
        {
          "output_type": "execute_result",
          "data": {
            "text/html": [
              "<div>\n",
              "<style scoped>\n",
              "    .dataframe tbody tr th:only-of-type {\n",
              "        vertical-align: middle;\n",
              "    }\n",
              "\n",
              "    .dataframe tbody tr th {\n",
              "        vertical-align: top;\n",
              "    }\n",
              "\n",
              "    .dataframe thead th {\n",
              "        text-align: right;\n",
              "    }\n",
              "</style>\n",
              "<table border=\"1\" class=\"dataframe\">\n",
              "  <thead>\n",
              "    <tr style=\"text-align: right;\">\n",
              "      <th></th>\n",
              "      <th>Unnamed: 0</th>\n",
              "      <th>0</th>\n",
              "    </tr>\n",
              "  </thead>\n",
              "  <tbody>\n",
              "    <tr>\n",
              "      <th>0</th>\n",
              "      <td>0</td>\n",
              "      <td>one reviewers mentioned watching oz episode ho...</td>\n",
              "    </tr>\n",
              "    <tr>\n",
              "      <th>1</th>\n",
              "      <td>1</td>\n",
              "      <td>wonderful little production filming technique ...</td>\n",
              "    </tr>\n",
              "    <tr>\n",
              "      <th>2</th>\n",
              "      <td>2</td>\n",
              "      <td>thought wonderful way spend time hot summer we...</td>\n",
              "    </tr>\n",
              "    <tr>\n",
              "      <th>3</th>\n",
              "      <td>3</td>\n",
              "      <td>basically family little boy jake thinks zombie...</td>\n",
              "    </tr>\n",
              "    <tr>\n",
              "      <th>4</th>\n",
              "      <td>4</td>\n",
              "      <td>petter mattei love time money visually stunnin...</td>\n",
              "    </tr>\n",
              "  </tbody>\n",
              "</table>\n",
              "</div>"
            ],
            "text/plain": [
              "   Unnamed: 0                                                  0\n",
              "0           0  one reviewers mentioned watching oz episode ho...\n",
              "1           1  wonderful little production filming technique ...\n",
              "2           2  thought wonderful way spend time hot summer we...\n",
              "3           3  basically family little boy jake thinks zombie...\n",
              "4           4  petter mattei love time money visually stunnin..."
            ]
          },
          "metadata": {
            "tags": []
          },
          "execution_count": 3
        }
      ]
    },
    {
      "cell_type": "markdown",
      "metadata": {
        "id": "LGiqNWSvfmsX"
      },
      "source": [
        "Since sentiment values are categorical values so we convert it into numerical values using replace method."
      ]
    },
    {
      "cell_type": "code",
      "metadata": {
        "id": "0V8U1hknLQTG"
      },
      "source": [
        "#changing positive to 1 and negative to 0\n",
        "data['sentiment'].replace('positive',1,inplace=True)\n",
        "data['sentiment'].replace('negative',0,inplace=True)\n"
      ],
      "execution_count": null,
      "outputs": []
    },
    {
      "cell_type": "markdown",
      "metadata": {
        "id": "OZ1APDLogCJO"
      },
      "source": [
        "After replacing , we are concatinating pre_data review column and data sentiment column to get a complete pre-processed data for model development."
      ]
    },
    {
      "cell_type": "code",
      "metadata": {
        "id": "bIYyaKLULUX1",
        "outputId": "61ae79c8-22cf-4374-cb3d-0c3c61300a50",
        "colab": {
          "base_uri": "https://localhost:8080/",
          "height": 363
        }
      },
      "source": [
        "#Concatinating the columns\n",
        "pre_data=pd.concat([pre_data['0'],data['sentiment']],axis=1)\n",
        "pre_data.head(10)"
      ],
      "execution_count": null,
      "outputs": [
        {
          "output_type": "execute_result",
          "data": {
            "text/html": [
              "<div>\n",
              "<style scoped>\n",
              "    .dataframe tbody tr th:only-of-type {\n",
              "        vertical-align: middle;\n",
              "    }\n",
              "\n",
              "    .dataframe tbody tr th {\n",
              "        vertical-align: top;\n",
              "    }\n",
              "\n",
              "    .dataframe thead th {\n",
              "        text-align: right;\n",
              "    }\n",
              "</style>\n",
              "<table border=\"1\" class=\"dataframe\">\n",
              "  <thead>\n",
              "    <tr style=\"text-align: right;\">\n",
              "      <th></th>\n",
              "      <th>0</th>\n",
              "      <th>sentiment</th>\n",
              "    </tr>\n",
              "  </thead>\n",
              "  <tbody>\n",
              "    <tr>\n",
              "      <th>0</th>\n",
              "      <td>one reviewers mentioned watching oz episode ho...</td>\n",
              "      <td>1</td>\n",
              "    </tr>\n",
              "    <tr>\n",
              "      <th>1</th>\n",
              "      <td>wonderful little production filming technique ...</td>\n",
              "      <td>1</td>\n",
              "    </tr>\n",
              "    <tr>\n",
              "      <th>2</th>\n",
              "      <td>thought wonderful way spend time hot summer we...</td>\n",
              "      <td>1</td>\n",
              "    </tr>\n",
              "    <tr>\n",
              "      <th>3</th>\n",
              "      <td>basically family little boy jake thinks zombie...</td>\n",
              "      <td>0</td>\n",
              "    </tr>\n",
              "    <tr>\n",
              "      <th>4</th>\n",
              "      <td>petter mattei love time money visually stunnin...</td>\n",
              "      <td>1</td>\n",
              "    </tr>\n",
              "    <tr>\n",
              "      <th>5</th>\n",
              "      <td>probably time favorite movie story selflessnes...</td>\n",
              "      <td>1</td>\n",
              "    </tr>\n",
              "    <tr>\n",
              "      <th>6</th>\n",
              "      <td>sure would like see resurrection dated seahunt...</td>\n",
              "      <td>1</td>\n",
              "    </tr>\n",
              "    <tr>\n",
              "      <th>7</th>\n",
              "      <td>show amazing fresh innovative idea first aired...</td>\n",
              "      <td>0</td>\n",
              "    </tr>\n",
              "    <tr>\n",
              "      <th>8</th>\n",
              "      <td>encouraged positive comments film looking forw...</td>\n",
              "      <td>0</td>\n",
              "    </tr>\n",
              "    <tr>\n",
              "      <th>9</th>\n",
              "      <td>like original gut wrenching laughter like movi...</td>\n",
              "      <td>1</td>\n",
              "    </tr>\n",
              "  </tbody>\n",
              "</table>\n",
              "</div>"
            ],
            "text/plain": [
              "                                                   0  sentiment\n",
              "0  one reviewers mentioned watching oz episode ho...          1\n",
              "1  wonderful little production filming technique ...          1\n",
              "2  thought wonderful way spend time hot summer we...          1\n",
              "3  basically family little boy jake thinks zombie...          0\n",
              "4  petter mattei love time money visually stunnin...          1\n",
              "5  probably time favorite movie story selflessnes...          1\n",
              "6  sure would like see resurrection dated seahunt...          1\n",
              "7  show amazing fresh innovative idea first aired...          0\n",
              "8  encouraged positive comments film looking forw...          0\n",
              "9  like original gut wrenching laughter like movi...          1"
            ]
          },
          "metadata": {
            "tags": []
          },
          "execution_count": 5
        }
      ]
    },
    {
      "cell_type": "code",
      "metadata": {
        "id": "dHJc0ucqLXEY",
        "outputId": "79b05e9d-b982-407f-c186-2d95c9a5ff42",
        "colab": {
          "base_uri": "https://localhost:8080/",
          "height": 363
        }
      },
      "source": [
        "#Changing column names for easy convenience\n",
        "pre_data.columns=['Reviews','Sentiment']\n",
        "pre_data.head(10)"
      ],
      "execution_count": null,
      "outputs": [
        {
          "output_type": "execute_result",
          "data": {
            "text/html": [
              "<div>\n",
              "<style scoped>\n",
              "    .dataframe tbody tr th:only-of-type {\n",
              "        vertical-align: middle;\n",
              "    }\n",
              "\n",
              "    .dataframe tbody tr th {\n",
              "        vertical-align: top;\n",
              "    }\n",
              "\n",
              "    .dataframe thead th {\n",
              "        text-align: right;\n",
              "    }\n",
              "</style>\n",
              "<table border=\"1\" class=\"dataframe\">\n",
              "  <thead>\n",
              "    <tr style=\"text-align: right;\">\n",
              "      <th></th>\n",
              "      <th>Reviews</th>\n",
              "      <th>Sentiment</th>\n",
              "    </tr>\n",
              "  </thead>\n",
              "  <tbody>\n",
              "    <tr>\n",
              "      <th>0</th>\n",
              "      <td>one reviewers mentioned watching oz episode ho...</td>\n",
              "      <td>1</td>\n",
              "    </tr>\n",
              "    <tr>\n",
              "      <th>1</th>\n",
              "      <td>wonderful little production filming technique ...</td>\n",
              "      <td>1</td>\n",
              "    </tr>\n",
              "    <tr>\n",
              "      <th>2</th>\n",
              "      <td>thought wonderful way spend time hot summer we...</td>\n",
              "      <td>1</td>\n",
              "    </tr>\n",
              "    <tr>\n",
              "      <th>3</th>\n",
              "      <td>basically family little boy jake thinks zombie...</td>\n",
              "      <td>0</td>\n",
              "    </tr>\n",
              "    <tr>\n",
              "      <th>4</th>\n",
              "      <td>petter mattei love time money visually stunnin...</td>\n",
              "      <td>1</td>\n",
              "    </tr>\n",
              "    <tr>\n",
              "      <th>5</th>\n",
              "      <td>probably time favorite movie story selflessnes...</td>\n",
              "      <td>1</td>\n",
              "    </tr>\n",
              "    <tr>\n",
              "      <th>6</th>\n",
              "      <td>sure would like see resurrection dated seahunt...</td>\n",
              "      <td>1</td>\n",
              "    </tr>\n",
              "    <tr>\n",
              "      <th>7</th>\n",
              "      <td>show amazing fresh innovative idea first aired...</td>\n",
              "      <td>0</td>\n",
              "    </tr>\n",
              "    <tr>\n",
              "      <th>8</th>\n",
              "      <td>encouraged positive comments film looking forw...</td>\n",
              "      <td>0</td>\n",
              "    </tr>\n",
              "    <tr>\n",
              "      <th>9</th>\n",
              "      <td>like original gut wrenching laughter like movi...</td>\n",
              "      <td>1</td>\n",
              "    </tr>\n",
              "  </tbody>\n",
              "</table>\n",
              "</div>"
            ],
            "text/plain": [
              "                                             Reviews  Sentiment\n",
              "0  one reviewers mentioned watching oz episode ho...          1\n",
              "1  wonderful little production filming technique ...          1\n",
              "2  thought wonderful way spend time hot summer we...          1\n",
              "3  basically family little boy jake thinks zombie...          0\n",
              "4  petter mattei love time money visually stunnin...          1\n",
              "5  probably time favorite movie story selflessnes...          1\n",
              "6  sure would like see resurrection dated seahunt...          1\n",
              "7  show amazing fresh innovative idea first aired...          0\n",
              "8  encouraged positive comments film looking forw...          0\n",
              "9  like original gut wrenching laughter like movi...          1"
            ]
          },
          "metadata": {
            "tags": []
          },
          "execution_count": 6
        }
      ]
    },
    {
      "cell_type": "markdown",
      "metadata": {
        "id": "-l6ixIZCgRKT"
      },
      "source": [
        "Splitting the data into train dataset and test dataset "
      ]
    },
    {
      "cell_type": "code",
      "metadata": {
        "id": "yce0AiH0LbEI"
      },
      "source": [
        "X=pre_data['Reviews']\n",
        "Y=pre_data['Sentiment']\n",
        "\n",
        "#train and test dataset\n",
        "from sklearn.model_selection import train_test_split\n",
        "x_train,x_test,y_train,y_test=train_test_split(X,Y,test_size=0.2,random_state=2)"
      ],
      "execution_count": null,
      "outputs": []
    },
    {
      "cell_type": "code",
      "metadata": {
        "id": "aLlZformLfH3",
        "outputId": "745c91da-5116-4e5d-dd01-ac2abb7a3a63",
        "colab": {
          "base_uri": "https://localhost:8080/"
        }
      },
      "source": [
        "#Printing the shapes of train and test dataset\n",
        "print(x_train.shape)\n",
        "print(y_train.shape)\n",
        "print(x_test.shape)\n",
        "print(y_test.shape)\n"
      ],
      "execution_count": null,
      "outputs": [
        {
          "output_type": "stream",
          "text": [
            "(40000,)\n",
            "(40000,)\n",
            "(10000,)\n",
            "(10000,)\n"
          ],
          "name": "stdout"
        }
      ]
    },
    {
      "cell_type": "markdown",
      "metadata": {
        "id": "GkoNtXNfgj1_"
      },
      "source": [
        "## **TF-IDF**\n",
        "\n",
        "1. TF-IDF which stands for Term Frequency – Inverse Document Frequency.  \n",
        "2. It is one of the most important techniques used for information retrieval to represent how important a specific word or phrase is to a given document.\n",
        "3. Implement using TfidfVectorizer from sklearn library.\n",
        "\n",
        "\n"
      ]
    },
    {
      "cell_type": "code",
      "metadata": {
        "id": "imLFpGx2Lhur"
      },
      "source": [
        "#converting the words into vectors using TfIdfvectorizer\n",
        "from sklearn.feature_extraction.text import TfidfVectorizer\n",
        "tf_idf=TfidfVectorizer()\n",
        "x_train_tf=tf_idf.fit_transform(x_train)"
      ],
      "execution_count": null,
      "outputs": []
    },
    {
      "cell_type": "code",
      "metadata": {
        "id": "UiSMiwy2Ln-G",
        "outputId": "8288b02d-db43-4308-cca9-d91c02773a86",
        "colab": {
          "base_uri": "https://localhost:8080/"
        }
      },
      "source": [
        "#2.RandomForestclassifier\n",
        "from sklearn.ensemble import RandomForestClassifier\n",
        "rand_forest=RandomForestClassifier(n_estimators=300,criterion='gini')\n",
        "rand_forest.fit(x_train_tf,y_train)"
      ],
      "execution_count": null,
      "outputs": [
        {
          "output_type": "execute_result",
          "data": {
            "text/plain": [
              "RandomForestClassifier(bootstrap=True, ccp_alpha=0.0, class_weight=None,\n",
              "                       criterion='gini', max_depth=None, max_features='auto',\n",
              "                       max_leaf_nodes=None, max_samples=None,\n",
              "                       min_impurity_decrease=0.0, min_impurity_split=None,\n",
              "                       min_samples_leaf=1, min_samples_split=2,\n",
              "                       min_weight_fraction_leaf=0.0, n_estimators=300,\n",
              "                       n_jobs=None, oob_score=False, random_state=None,\n",
              "                       verbose=0, warm_start=False)"
            ]
          },
          "metadata": {
            "tags": []
          },
          "execution_count": 10
        }
      ]
    },
    {
      "cell_type": "code",
      "metadata": {
        "id": "HuunIRjJLtXs",
        "outputId": "a2d91857-8bac-49f2-c5af-83a0d1493a76",
        "colab": {
          "base_uri": "https://localhost:8080/"
        }
      },
      "source": [
        "#prediction for randomforest\n",
        "x_test_tf=tf_idf.transform(x_test).toarray()\n",
        "pred_forest=rand_forest.predict(x_test_tf)\n",
        "print(pred_forest)"
      ],
      "execution_count": null,
      "outputs": [
        {
          "output_type": "stream",
          "text": [
            "[0 0 1 ... 0 1 0]\n"
          ],
          "name": "stdout"
        }
      ]
    },
    {
      "cell_type": "code",
      "metadata": {
        "id": "Z6-UWcnSOJHC",
        "outputId": "944413aa-6851-424a-ad35-31c677aea274",
        "colab": {
          "base_uri": "https://localhost:8080/"
        }
      },
      "source": [
        "#Accuracy metrics\n",
        "from sklearn.metrics import classification_report,confusion_matrix,accuracy_score\n",
        "\n",
        "# 1. Confusion matrix\n",
        "confu_matrix=confusion_matrix(y_test,pred_forest)\n",
        "print('Confusion for the model is :\\n ',confu_matrix)\n",
        "\n",
        "# 2. Accuracy score\n",
        "accu_score=accuracy_score(y_test,pred_forest)\n",
        "print('The accuracy score for the model is : ',accu_score)\n",
        "# 3. Classification report\n",
        "report=classification_report(y_test,pred_forest)\n",
        "print('The classification report for the model :\\n',report)"
      ],
      "execution_count": null,
      "outputs": [
        {
          "output_type": "stream",
          "text": [
            "Confusion for the model is :\n",
            "  [[4323  656]\n",
            " [ 655 4366]]\n",
            "The accuracy score for the model is :  0.8689\n",
            "The classification report for the model :\n",
            "               precision    recall  f1-score   support\n",
            "\n",
            "           0       0.87      0.87      0.87      4979\n",
            "           1       0.87      0.87      0.87      5021\n",
            "\n",
            "    accuracy                           0.87     10000\n",
            "   macro avg       0.87      0.87      0.87     10000\n",
            "weighted avg       0.87      0.87      0.87     10000\n",
            "\n"
          ],
          "name": "stdout"
        }
      ]
    },
    {
      "cell_type": "markdown",
      "metadata": {
        "id": "0Dp52mQOg6Zn"
      },
      "source": [
        "Comparing Bag of words and TF_IDF, TF-IDF gives a better accuracy of 0.87 in Random Forest Classifier model."
      ]
    },
    {
      "cell_type": "code",
      "metadata": {
        "id": "A0iM3i8ddhCQ"
      },
      "source": [
        ""
      ],
      "execution_count": null,
      "outputs": []
    },
    {
      "cell_type": "code",
      "metadata": {
        "id": "LLfDH2dqe6VC"
      },
      "source": [
        ""
      ],
      "execution_count": null,
      "outputs": []
    }
  ]
}